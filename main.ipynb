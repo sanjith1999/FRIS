{
 "cells": [
  {
   "cell_type": "markdown",
   "metadata": {},
   "source": [
    "***PSF-RUN***"
   ]
  },
  {
   "cell_type": "code",
   "execution_count": null,
   "metadata": {},
   "outputs": [],
   "source": [
    "from create_dataset import store_PSF\n",
    "store_PSF()"
   ]
  },
  {
   "cell_type": "markdown",
   "metadata": {},
   "source": [
    "***A_R SIMULATION***"
   ]
  },
  {
   "cell_type": "code",
   "execution_count": 1,
   "metadata": {},
   "outputs": [
    {
     "name": "stdout",
     "output_type": "stream",
     "text": [
      "Linearized Model Specifications\n",
      "----------------------------------------------\n",
      "NA \t\t\t\t: 0.8\n",
      "Space Dimension \t\t: 10.240um × 10.240um × 10.240um\n",
      "Analog Voxel Size \t\t: 0.08um × 0.08um × 0.08um\n",
      "Original Shape \t\t\t: 128 × 128 × 128\n",
      "DMD Patterns \t\t\t: 2\n",
      "Measurement Plane\t\t: 1\n",
      "Detector Pool size \t\t: 8×8\n",
      "Computational Device \t\t: cuda\n",
      "\n",
      "\n"
     ]
    },
    {
     "name": "stderr",
     "output_type": "stream",
     "text": [
      "Pattern: 1/2\t Nz: 1/128\t Nx: 100%|██████████| 128/128 [01:49<00:00,  1.17it/s]\n",
      "Pattern: 1/2\t Nz: 2/128\t Nx:  42%|████▏     | 54/128 [00:46<01:03,  1.17it/s]\n"
     ]
    },
    {
     "ename": "KeyboardInterrupt",
     "evalue": "",
     "output_type": "error",
     "traceback": [
      "\u001b[1;31m---------------------------------------------------------------------------\u001b[0m",
      "\u001b[1;31mKeyboardInterrupt\u001b[0m                         Traceback (most recent call last)",
      "Cell \u001b[1;32mIn[1], line 2\u001b[0m\n\u001b[0;32m      1\u001b[0m \u001b[38;5;28;01mfrom\u001b[39;00m \u001b[38;5;21;01mcreate_dataset\u001b[39;00m \u001b[38;5;28;01mimport\u001b[39;00m create_A\n\u001b[1;32m----> 2\u001b[0m \u001b[43mcreate_A\u001b[49m\u001b[43m(\u001b[49m\u001b[43mIT\u001b[49m\u001b[43m \u001b[49m\u001b[38;5;241;43m=\u001b[39;49m\u001b[43m \u001b[49m\u001b[38;5;241;43m101\u001b[39;49m\u001b[43m)\u001b[49m\n",
      "File \u001b[1;32mf:\\FRIS\\Main\\create_dataset.py:67\u001b[0m, in \u001b[0;36mcreate_A\u001b[1;34m(IT)\u001b[0m\n\u001b[0;32m     65\u001b[0m EP \u001b[38;5;241m=\u001b[39m EfficientProcess(nx,ny,nz,n_patterns,dd_factor)\n\u001b[0;32m     66\u001b[0m \u001b[38;5;28mprint\u001b[39m(EP)\n\u001b[1;32m---> 67\u001b[0m \u001b[43mEP\u001b[49m\u001b[38;5;241;43m.\u001b[39;49m\u001b[43minit_models\u001b[49m\u001b[43m(\u001b[49m\u001b[43m)\u001b[49m\n\u001b[0;32m     68\u001b[0m EP\u001b[38;5;241m.\u001b[39msave_matrix(it \u001b[38;5;241m=\u001b[39m IT)\n",
      "File \u001b[1;32mf:\\FRIS\\Main\\libs\\efficient_lib\\efficient_process.py:43\u001b[0m, in \u001b[0;36mEfficientProcess.init_models\u001b[1;34m(self)\u001b[0m\n\u001b[0;32m     41\u001b[0m \u001b[38;5;28mself\u001b[39m\u001b[38;5;241m.\u001b[39mEM \u001b[38;5;241m=\u001b[39m EfficientModel(\u001b[38;5;28mself\u001b[39m\u001b[38;5;241m.\u001b[39mnx, \u001b[38;5;28mself\u001b[39m\u001b[38;5;241m.\u001b[39mny, \u001b[38;5;28mself\u001b[39m\u001b[38;5;241m.\u001b[39mnz,\u001b[38;5;28mself\u001b[39m\u001b[38;5;241m.\u001b[39mn_patterns, \u001b[38;5;28mself\u001b[39m\u001b[38;5;241m.\u001b[39mdd_factor, \u001b[38;5;28mself\u001b[39m\u001b[38;5;241m.\u001b[39mn_planes, \u001b[38;5;28mself\u001b[39m\u001b[38;5;241m.\u001b[39mdevice)\n\u001b[0;32m     42\u001b[0m \u001b[38;5;28mself\u001b[39m\u001b[38;5;241m.\u001b[39mA \u001b[38;5;241m=\u001b[39m torch\u001b[38;5;241m.\u001b[39mzeros(\u001b[38;5;28mint\u001b[39m(\u001b[38;5;28mself\u001b[39m\u001b[38;5;241m.\u001b[39mnx\u001b[38;5;241m/\u001b[39m\u001b[38;5;28mself\u001b[39m\u001b[38;5;241m.\u001b[39mdd_factor)\u001b[38;5;241m*\u001b[39m\u001b[38;5;28mint\u001b[39m(\u001b[38;5;28mself\u001b[39m\u001b[38;5;241m.\u001b[39mny\u001b[38;5;241m/\u001b[39m\u001b[38;5;28mself\u001b[39m\u001b[38;5;241m.\u001b[39mdd_factor)\u001b[38;5;241m*\u001b[39m\u001b[38;5;28mself\u001b[39m\u001b[38;5;241m.\u001b[39mn_planes\u001b[38;5;241m*\u001b[39m\u001b[38;5;28mself\u001b[39m\u001b[38;5;241m.\u001b[39mn_patterns, \u001b[38;5;28mself\u001b[39m\u001b[38;5;241m.\u001b[39mnx\u001b[38;5;241m*\u001b[39m\u001b[38;5;28mself\u001b[39m\u001b[38;5;241m.\u001b[39mny\u001b[38;5;241m*\u001b[39m\u001b[38;5;28mself\u001b[39m\u001b[38;5;241m.\u001b[39mnz)\u001b[38;5;241m.\u001b[39mfloat()\u001b[38;5;241m.\u001b[39mto(\u001b[38;5;28mself\u001b[39m\u001b[38;5;241m.\u001b[39mdevice)\n\u001b[1;32m---> 43\u001b[0m \u001b[38;5;28;43mself\u001b[39;49m\u001b[38;5;241;43m.\u001b[39;49m\u001b[43mfind_transformation\u001b[49m\u001b[43m(\u001b[49m\u001b[43m)\u001b[49m\n",
      "File \u001b[1;32mf:\\FRIS\\Main\\libs\\efficient_lib\\efficient_process.py:56\u001b[0m, in \u001b[0;36mEfficientProcess.find_transformation\u001b[1;34m(self)\u001b[0m\n\u001b[0;32m     54\u001b[0m \u001b[38;5;28;01mfor\u001b[39;00m i_x \u001b[38;5;129;01min\u001b[39;00m tqdm(\u001b[38;5;28mrange\u001b[39m(\u001b[38;5;28mself\u001b[39m\u001b[38;5;241m.\u001b[39mnx), desc \u001b[38;5;241m=\u001b[39m \u001b[38;5;124mf\u001b[39m\u001b[38;5;124m\"\u001b[39m\u001b[38;5;124mPattern: \u001b[39m\u001b[38;5;132;01m{\u001b[39;00mi_p\u001b[38;5;241m+\u001b[39m\u001b[38;5;241m1\u001b[39m\u001b[38;5;132;01m}\u001b[39;00m\u001b[38;5;124m/\u001b[39m\u001b[38;5;132;01m{\u001b[39;00m\u001b[38;5;28mself\u001b[39m\u001b[38;5;241m.\u001b[39mn_patterns\u001b[38;5;132;01m}\u001b[39;00m\u001b[38;5;130;01m\\t\u001b[39;00m\u001b[38;5;124m Nz: \u001b[39m\u001b[38;5;132;01m{\u001b[39;00mi_z\u001b[38;5;241m+\u001b[39m\u001b[38;5;241m1\u001b[39m\u001b[38;5;132;01m}\u001b[39;00m\u001b[38;5;124m/\u001b[39m\u001b[38;5;132;01m{\u001b[39;00m\u001b[38;5;28mself\u001b[39m\u001b[38;5;241m.\u001b[39mnz\u001b[38;5;132;01m}\u001b[39;00m\u001b[38;5;130;01m\\t\u001b[39;00m\u001b[38;5;124m Nx: \u001b[39m\u001b[38;5;124m\"\u001b[39m):\n\u001b[0;32m     55\u001b[0m     \u001b[38;5;28;01mfor\u001b[39;00m i_y \u001b[38;5;129;01min\u001b[39;00m \u001b[38;5;28mrange\u001b[39m(\u001b[38;5;28mself\u001b[39m\u001b[38;5;241m.\u001b[39mny):\n\u001b[1;32m---> 56\u001b[0m         \u001b[43mI\u001b[49m\u001b[43m[\u001b[49m\u001b[38;5;241;43m0\u001b[39;49m\u001b[43m,\u001b[49m\u001b[43m \u001b[49m\u001b[43mi_z\u001b[49m\u001b[43m,\u001b[49m\u001b[43m \u001b[49m\u001b[43mi_x\u001b[49m\u001b[43m,\u001b[49m\u001b[43m \u001b[49m\u001b[43mi_y\u001b[49m\u001b[43m]\u001b[49m \u001b[38;5;241m=\u001b[39m \u001b[38;5;241m1\u001b[39m\n\u001b[0;32m     57\u001b[0m         \u001b[38;5;28mself\u001b[39m\u001b[38;5;241m.\u001b[39mA[i_p\u001b[38;5;241m*\u001b[39m\u001b[38;5;28mself\u001b[39m\u001b[38;5;241m.\u001b[39mmeasure_pp:i_p\u001b[38;5;241m*\u001b[39m\u001b[38;5;28mself\u001b[39m\u001b[38;5;241m.\u001b[39mmeasure_pp\u001b[38;5;241m+\u001b[39m \u001b[38;5;28mself\u001b[39m\u001b[38;5;241m.\u001b[39mmeasure_pp, i_z\u001b[38;5;241m*\u001b[39m\u001b[38;5;28mself\u001b[39m\u001b[38;5;241m.\u001b[39mny\u001b[38;5;241m*\u001b[39m\u001b[38;5;28mself\u001b[39m\u001b[38;5;241m.\u001b[39mnx \u001b[38;5;241m+\u001b[39m i_x\u001b[38;5;241m*\u001b[39m\u001b[38;5;28mself\u001b[39m\u001b[38;5;241m.\u001b[39mny\u001b[38;5;241m+\u001b[39mi_y] \u001b[38;5;241m=\u001b[39m \u001b[38;5;28mself\u001b[39m\u001b[38;5;241m.\u001b[39mEM\u001b[38;5;241m.\u001b[39mpropagate_object(I)\u001b[38;5;241m.\u001b[39mflatten()\n\u001b[0;32m     58\u001b[0m         I[\u001b[38;5;241m0\u001b[39m, i_z, i_x, i_y] \u001b[38;5;241m=\u001b[39m \u001b[38;5;241m0\u001b[39m\n",
      "\u001b[1;31mKeyboardInterrupt\u001b[0m: "
     ]
    }
   ],
   "source": [
    "from create_dataset import create_A\n",
    "create_A(IT = 101)"
   ]
  },
  {
   "cell_type": "markdown",
   "metadata": {},
   "source": [
    "***DATASET CREATION***"
   ]
  },
  {
   "cell_type": "code",
   "execution_count": null,
   "metadata": {},
   "outputs": [],
   "source": [
    "from create_dataset import dataset_creater\n",
    "dataset_creater(IT= 0)"
   ]
  },
  {
   "cell_type": "markdown",
   "metadata": {},
   "source": [
    "### Simple Comparision"
   ]
  },
  {
   "cell_type": "code",
   "execution_count": null,
   "metadata": {},
   "outputs": [],
   "source": [
    "import torch\n",
    "from libs.forward_lib.linearized_process import LinearizedModel\n",
    "from libs.forward_lib.visualizer import visualize_vectors\n",
    "\n",
    "LM = LinearizedModel()\n",
    "LM.load_matrix(original_=False)\n",
    "\n",
    "x_r =  torch.load(\"./data/dataset/X_r.pt\")[7].to(LM.device)\n",
    "y  = torch.load(\"./data/dataset/Y.pt\")[7].to(LM.device)\n",
    "\n",
    "y_a = LM.A_r@x_r\n",
    "visualize_vectors([y_a.detach().cpu(), y.detach().cpu()])"
   ]
  }
 ],
 "metadata": {
  "kernelspec": {
   "display_name": "FRIS",
   "language": "python",
   "name": "python3"
  },
  "language_info": {
   "codemirror_mode": {
    "name": "ipython",
    "version": 3
   },
   "file_extension": ".py",
   "mimetype": "text/x-python",
   "name": "python",
   "nbconvert_exporter": "python",
   "pygments_lexer": "ipython3",
   "version": "3.9.7"
  }
 },
 "nbformat": 4,
 "nbformat_minor": 2
}
