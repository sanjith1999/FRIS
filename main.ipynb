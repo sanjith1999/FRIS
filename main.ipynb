{
 "cells": [
  {
   "cell_type": "markdown",
   "metadata": {},
   "source": [
    "***PSF-RUN***"
   ]
  },
  {
   "cell_type": "code",
   "execution_count": null,
   "metadata": {},
   "outputs": [],
   "source": [
    "from create_dataset import store_PSF\n",
    "store_PSF()"
   ]
  },
  {
   "cell_type": "markdown",
   "metadata": {},
   "source": [
    "***A SIMULATION***"
   ]
  },
  {
   "cell_type": "code",
   "execution_count": null,
   "metadata": {},
   "outputs": [],
   "source": [
    "from create_dataset import create_A\n",
    "create_A()"
   ]
  },
  {
   "cell_type": "code",
   "execution_count": null,
   "metadata": {},
   "outputs": [],
   "source": [
    "from create_dataset import approximate_A\n",
    "approximate_A()"
   ]
  },
  {
   "cell_type": "code",
   "execution_count": null,
   "metadata": {},
   "outputs": [],
   "source": [
    "from create_dataset import stack_up_A\n",
    "stack_up_A()"
   ]
  },
  {
   "cell_type": "markdown",
   "metadata": {},
   "source": [
    "***DATASET CREATION***"
   ]
  },
  {
   "cell_type": "code",
   "execution_count": 1,
   "metadata": {},
   "outputs": [
    {
     "name": "stderr",
     "output_type": "stream",
     "text": [
      "Data Point 000: 100%|██████████| 32/32 [00:01<00:00, 16.85it/s]\n",
      "Data Point 001: 100%|██████████| 32/32 [00:01<00:00, 22.94it/s]\n",
      "Data Point 002: 100%|██████████| 32/32 [00:01<00:00, 26.46it/s]\n",
      "Data Point 003: 100%|██████████| 32/32 [00:01<00:00, 23.72it/s]\n",
      "Data Point 004: 100%|██████████| 32/32 [00:01<00:00, 21.59it/s]\n",
      "Data Point 005: 100%|██████████| 32/32 [00:01<00:00, 24.70it/s]\n",
      "Data Point 006: 100%|██████████| 32/32 [00:01<00:00, 24.72it/s]\n",
      "Data Point 007: 100%|██████████| 32/32 [00:01<00:00, 23.89it/s]\n",
      "Data Point 008: 100%|██████████| 32/32 [00:01<00:00, 23.81it/s]\n",
      "Data Point 009: 100%|██████████| 32/32 [00:01<00:00, 21.85it/s]\n",
      "Data Point 010: 100%|██████████| 32/32 [00:01<00:00, 23.76it/s]\n",
      "Data Point 011: 100%|██████████| 32/32 [00:01<00:00, 26.78it/s]\n",
      "Data Point 012: 100%|██████████| 32/32 [00:01<00:00, 24.21it/s]\n",
      "Data Point 013: 100%|██████████| 32/32 [00:01<00:00, 25.51it/s]\n",
      "Data Point 014: 100%|██████████| 32/32 [00:01<00:00, 26.46it/s]\n",
      "Data Point 015: 100%|██████████| 32/32 [00:01<00:00, 21.14it/s]\n",
      "Data Point 016: 100%|██████████| 32/32 [00:01<00:00, 21.03it/s]\n",
      "Data Point 017: 100%|██████████| 32/32 [00:01<00:00, 19.88it/s]\n",
      "Data Point 018: 100%|██████████| 32/32 [00:01<00:00, 23.58it/s]\n",
      "Data Point 019: 100%|██████████| 32/32 [00:01<00:00, 20.66it/s]\n",
      "Data Point 020: 100%|██████████| 32/32 [00:01<00:00, 19.25it/s]\n",
      "Data Point 021: 100%|██████████| 32/32 [00:01<00:00, 22.42it/s]\n",
      "Data Point 022: 100%|██████████| 32/32 [00:01<00:00, 19.49it/s]\n",
      "Data Point 023: 100%|██████████| 32/32 [00:01<00:00, 19.63it/s]\n",
      "Data Point 024: 100%|██████████| 32/32 [00:01<00:00, 20.22it/s]\n",
      "Data Point 025: 100%|██████████| 32/32 [00:01<00:00, 21.92it/s]\n",
      "Data Point 026: 100%|██████████| 32/32 [00:01<00:00, 19.29it/s]\n",
      "Data Point 027: 100%|██████████| 32/32 [00:01<00:00, 22.25it/s]\n",
      "Data Point 028: 100%|██████████| 32/32 [00:01<00:00, 21.30it/s]\n",
      "Data Point 029: 100%|██████████| 32/32 [00:01<00:00, 21.41it/s]\n",
      "Data Point 030: 100%|██████████| 32/32 [00:01<00:00, 20.00it/s]\n",
      "Data Point 031: 100%|██████████| 32/32 [00:01<00:00, 20.63it/s]\n"
     ]
    }
   ],
   "source": [
    "from create_dataset import create_data\n",
    "for dp in range(0, 32):\n",
    "    create_data(IT= dp, batch_size= 32, object_type=\"NEURAL_CELL\")"
   ]
  },
  {
   "cell_type": "code",
   "execution_count": 2,
   "metadata": {},
   "outputs": [
    {
     "name": "stderr",
     "output_type": "stream",
     "text": [
      "Pattern Pair: 01\t\tData Point: 100%|██████████| 32/32 [00:01<00:00, 19.56it/s]\n",
      "Pattern Pair: 02\t\tData Point: 100%|██████████| 32/32 [00:01<00:00, 26.58it/s]\n",
      "Pattern Pair: 03\t\tData Point: 100%|██████████| 32/32 [00:01<00:00, 22.83it/s]\n",
      "Pattern Pair: 04\t\tData Point: 100%|██████████| 32/32 [00:01<00:00, 22.70it/s]\n",
      "Pattern Pair: 05\t\tData Point: 100%|██████████| 32/32 [00:01<00:00, 24.02it/s]\n",
      "Pattern Pair: 06\t\tData Point: 100%|██████████| 32/32 [00:01<00:00, 24.60it/s]\n",
      "Pattern Pair: 07\t\tData Point: 100%|██████████| 32/32 [00:01<00:00, 24.33it/s]\n",
      "Pattern Pair: 08\t\tData Point: 100%|██████████| 32/32 [00:01<00:00, 25.26it/s]\n",
      "Pattern Pair: 09\t\tData Point: 100%|██████████| 32/32 [00:01<00:00, 25.49it/s]\n",
      "Pattern Pair: 10\t\tData Point: 100%|██████████| 32/32 [00:01<00:00, 25.05it/s]\n",
      "Pattern Pair: 11\t\tData Point: 100%|██████████| 32/32 [00:01<00:00, 23.15it/s]\n",
      "Pattern Pair: 12\t\tData Point: 100%|██████████| 32/32 [00:01<00:00, 23.70it/s]\n",
      "Pattern Pair: 13\t\tData Point: 100%|██████████| 32/32 [00:01<00:00, 22.48it/s]\n",
      "Pattern Pair: 14\t\tData Point: 100%|██████████| 32/32 [00:01<00:00, 23.10it/s]\n",
      "Pattern Pair: 15\t\tData Point: 100%|██████████| 32/32 [00:01<00:00, 23.49it/s]\n",
      "Pattern Pair: 16\t\tData Point: 100%|██████████| 32/32 [00:01<00:00, 23.81it/s]\n"
     ]
    }
   ],
   "source": [
    "from create_dataset import run_process\n",
    "run_process()"
   ]
  },
  {
   "cell_type": "code",
   "execution_count": 1,
   "metadata": {},
   "outputs": [
    {
     "name": "stdout",
     "output_type": "stream",
     "text": [
      "Object: torch.Size([1024, 8192]) Measurement: torch.Size([1024, 8192])\n"
     ]
    }
   ],
   "source": [
    "from create_dataset import combine_data\n",
    "combine_data()"
   ]
  }
 ],
 "metadata": {
  "kernelspec": {
   "display_name": "FRIS",
   "language": "python",
   "name": "python3"
  },
  "language_info": {
   "codemirror_mode": {
    "name": "ipython",
    "version": 3
   },
   "file_extension": ".py",
   "mimetype": "text/x-python",
   "name": "python",
   "nbconvert_exporter": "python",
   "pygments_lexer": "ipython3",
   "version": "3.9.7"
  }
 },
 "nbformat": 4,
 "nbformat_minor": 2
}
