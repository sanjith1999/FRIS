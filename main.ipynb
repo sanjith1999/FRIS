{
 "cells": [
  {
   "cell_type": "markdown",
   "metadata": {},
   "source": [
    "***PSF-RUN***"
   ]
  },
  {
   "cell_type": "code",
   "execution_count": 1,
   "metadata": {},
   "outputs": [],
   "source": [
    "from create_dataset import store_PSF\n",
    "store_PSF()"
   ]
  },
  {
   "cell_type": "markdown",
   "metadata": {},
   "source": [
    "***A_R SIMULATION***"
   ]
  },
  {
   "cell_type": "code",
   "execution_count": null,
   "metadata": {},
   "outputs": [],
   "source": [
    "from create_dataset import create_A\n",
    "create_A()"
   ]
  },
  {
   "cell_type": "code",
   "execution_count": 1,
   "metadata": {},
   "outputs": [
    {
     "name": "stdout",
     "output_type": "stream",
     "text": [
      "Linearized Model Specifications\n",
      "----------------------------------------------\n",
      "NA \t\t\t\t: 0.8\n",
      "Space Dimension \t\t: 10.240um × 10.240um × 10.240um\n",
      "Analog Voxel Size \t\t: 0.08um × 0.08um × 0.08um\n",
      "Reduced Voxel Size \t\t: 0.32um × 0.32um × 0.32um\n",
      "Original Shape \t\t\t: 128 × 128 × 128\n",
      "Reduced Shape \t\t\t: 32 × 32 × 32\n",
      "DMD Patterns \t\t\t: 2\n",
      "# of Plane\t\t\t: 1\n",
      "Detector Pool size \t\t: 8×8\n",
      "Computational Device \t\t: cuda\n",
      "\n",
      "\n",
      "A: 3\n"
     ]
    },
    {
     "name": "stderr",
     "output_type": "stream",
     "text": [
      "Reduced Plane Calculations: 100%|██████████| 32/32 [10:24<00:00, 19.53s/it]\n"
     ]
    },
    {
     "name": "stdout",
     "output_type": "stream",
     "text": [
      "A approximation successful...!\n",
      "\n",
      "A: 4\n"
     ]
    },
    {
     "name": "stderr",
     "output_type": "stream",
     "text": [
      "Reduced Plane Calculations: 100%|██████████| 32/32 [10:26<00:00, 19.56s/it]\n"
     ]
    },
    {
     "name": "stdout",
     "output_type": "stream",
     "text": [
      "A approximation successful...!\n",
      "\n",
      "A: 5\n"
     ]
    },
    {
     "name": "stderr",
     "output_type": "stream",
     "text": [
      "Reduced Plane Calculations: 100%|██████████| 32/32 [10:26<00:00, 19.58s/it]\n"
     ]
    },
    {
     "name": "stdout",
     "output_type": "stream",
     "text": [
      "A approximation successful...!\n",
      "\n",
      "A: 6\n"
     ]
    },
    {
     "name": "stderr",
     "output_type": "stream",
     "text": [
      "Reduced Plane Calculations: 100%|██████████| 32/32 [10:26<00:00, 19.58s/it]\n"
     ]
    },
    {
     "name": "stdout",
     "output_type": "stream",
     "text": [
      "A approximation successful...!\n",
      "\n",
      "A: 7\n"
     ]
    },
    {
     "name": "stderr",
     "output_type": "stream",
     "text": [
      "Reduced Plane Calculations: 100%|██████████| 32/32 [10:26<00:00, 19.58s/it]\n"
     ]
    },
    {
     "name": "stdout",
     "output_type": "stream",
     "text": [
      "A approximation successful...!\n",
      "\n",
      "A: 8\n"
     ]
    },
    {
     "name": "stderr",
     "output_type": "stream",
     "text": [
      "Reduced Plane Calculations: 100%|██████████| 32/32 [10:20<00:00, 19.40s/it]\n"
     ]
    },
    {
     "name": "stdout",
     "output_type": "stream",
     "text": [
      "A approximation successful...!\n",
      "\n",
      "A: 9\n"
     ]
    },
    {
     "name": "stderr",
     "output_type": "stream",
     "text": [
      "Reduced Plane Calculations: 100%|██████████| 32/32 [10:14<00:00, 19.21s/it]\n"
     ]
    },
    {
     "name": "stdout",
     "output_type": "stream",
     "text": [
      "A approximation successful...!\n",
      "\n",
      "A: 10\n"
     ]
    },
    {
     "name": "stderr",
     "output_type": "stream",
     "text": [
      "Reduced Plane Calculations: 100%|██████████| 32/32 [10:14<00:00, 19.19s/it]\n"
     ]
    },
    {
     "name": "stdout",
     "output_type": "stream",
     "text": [
      "A approximation successful...!\n",
      "\n",
      "A: 11\n"
     ]
    },
    {
     "name": "stderr",
     "output_type": "stream",
     "text": [
      "Reduced Plane Calculations: 100%|██████████| 32/32 [10:14<00:00, 19.19s/it]\n"
     ]
    },
    {
     "name": "stdout",
     "output_type": "stream",
     "text": [
      "A approximation successful...!\n",
      "\n",
      "A: 12\n"
     ]
    },
    {
     "name": "stderr",
     "output_type": "stream",
     "text": [
      "Reduced Plane Calculations: 100%|██████████| 32/32 [10:15<00:00, 19.23s/it]\n"
     ]
    },
    {
     "name": "stdout",
     "output_type": "stream",
     "text": [
      "A approximation successful...!\n",
      "\n",
      "A: 13\n"
     ]
    },
    {
     "name": "stderr",
     "output_type": "stream",
     "text": [
      "Reduced Plane Calculations: 100%|██████████| 32/32 [10:14<00:00, 19.21s/it]\n"
     ]
    },
    {
     "name": "stdout",
     "output_type": "stream",
     "text": [
      "A approximation successful...!\n",
      "\n",
      "A: 14\n"
     ]
    },
    {
     "name": "stderr",
     "output_type": "stream",
     "text": [
      "Reduced Plane Calculations: 100%|██████████| 32/32 [10:14<00:00, 19.19s/it]\n"
     ]
    },
    {
     "name": "stdout",
     "output_type": "stream",
     "text": [
      "A approximation successful...!\n",
      "\n",
      "A: 15\n"
     ]
    },
    {
     "name": "stderr",
     "output_type": "stream",
     "text": [
      "Reduced Plane Calculations: 100%|██████████| 32/32 [10:25<00:00, 19.56s/it]\n"
     ]
    },
    {
     "name": "stdout",
     "output_type": "stream",
     "text": [
      "A approximation successful...!\n",
      "\n"
     ]
    }
   ],
   "source": [
    "from create_dataset import approximate_A\n",
    "approximate_A()"
   ]
  },
  {
   "cell_type": "code",
   "execution_count": null,
   "metadata": {},
   "outputs": [],
   "source": [
    "from create_dataset import stack_up_A\n",
    "stack_up_A()"
   ]
  },
  {
   "cell_type": "markdown",
   "metadata": {},
   "source": [
    "***DATASET CREATION***"
   ]
  },
  {
   "cell_type": "code",
   "execution_count": null,
   "metadata": {},
   "outputs": [],
   "source": [
    "from create_dataset import dataset_creater\n",
    "dataset_creater(IT= 0)"
   ]
  },
  {
   "cell_type": "markdown",
   "metadata": {},
   "source": [
    "### Simple Comparision"
   ]
  },
  {
   "cell_type": "code",
   "execution_count": null,
   "metadata": {},
   "outputs": [],
   "source": [
    "import torch\n",
    "from libs.forward_lib.linearized_process import LinearizedModel\n",
    "from libs.forward_lib.visualizer import visualize_vectors\n",
    "\n",
    "LM = LinearizedModel()\n",
    "LM.load_matrix(original_=False)\n",
    "\n",
    "x_r =  torch.load(\"./data/dataset/X_r.pt\")[7].to(LM.device)\n",
    "y  = torch.load(\"./data/dataset/Y.pt\")[7].to(LM.device)\n",
    "\n",
    "y_a = LM.A_r@x_r\n",
    "visualize_vectors([y_a.detach().cpu(), y.detach().cpu()])"
   ]
  }
 ],
 "metadata": {
  "kernelspec": {
   "display_name": "FRIS",
   "language": "python",
   "name": "python3"
  },
  "language_info": {
   "codemirror_mode": {
    "name": "ipython",
    "version": 3
   },
   "file_extension": ".py",
   "mimetype": "text/x-python",
   "name": "python",
   "nbconvert_exporter": "python",
   "pygments_lexer": "ipython3",
   "version": "3.9.7"
  }
 },
 "nbformat": 4,
 "nbformat_minor": 2
}
