{
 "cells": [
  {
   "cell_type": "code",
   "execution_count": 1,
   "metadata": {},
   "outputs": [],
   "source": [
    "import scipy.io\n",
    "import utils\n",
    "import torch\n",
    "import numpy as np\n",
    "import TWIST\n",
    "import visualize as vis\n",
    "\n",
    "device = torch.device('cuda' if torch.cuda.is_available() else 'cpu')"
   ]
  },
  {
   "cell_type": "markdown",
   "metadata": {},
   "source": [
    "Load data"
   ]
  },
  {
   "cell_type": "code",
   "execution_count": 2,
   "metadata": {},
   "outputs": [],
   "source": [
    "data_path = '../data/NC_m4_np1_df0.5_32x32x1.mat'\n",
    "\n",
    "m = 4 # no of patterns\n",
    "nump = 1 # no of detected planes\n",
    "df = 0.5 # downsampling factor\n",
    "nx = 32 # width of a plane (dy = 1/3 um)\n",
    "ny = 32 # height of a plane (dx = 1/3 um)\n",
    "nz = 1 # number of planes (dz = 1 um)\n",
    "\n",
    "data = scipy.io.loadmat(data_path)\n",
    "\n",
    "FM = data['A']\n",
    "X = data['X_original'].T\n",
    "y_clean = data['Y'].T\n",
    "y_noisy = data['Yn'].T"
   ]
  },
  {
   "cell_type": "markdown",
   "metadata": {},
   "source": [
    "Visualize measurement matrix A"
   ]
  },
  {
   "cell_type": "code",
   "execution_count": 3,
   "metadata": {},
   "outputs": [],
   "source": [
    "# vis.visualize_A(FM, nx, ny, nz, nump, m, df, figsize=(6, 6))"
   ]
  },
  {
   "cell_type": "code",
   "execution_count": 4,
   "metadata": {},
   "outputs": [],
   "source": [
    "# vis.visualize_A(np.log(FM), nx, ny, nz, nump, m, df, figsize=(6, 6))"
   ]
  },
  {
   "cell_type": "markdown",
   "metadata": {},
   "source": [
    "Visualize object X"
   ]
  },
  {
   "cell_type": "code",
   "execution_count": 5,
   "metadata": {},
   "outputs": [],
   "source": [
    "# vis.visualize_X(X, nx, ny, nz, figsize=(15, 15), planes_to_plot=range(nz))"
   ]
  },
  {
   "cell_type": "markdown",
   "metadata": {},
   "source": [
    "Visualize measurement y"
   ]
  },
  {
   "cell_type": "code",
   "execution_count": 6,
   "metadata": {},
   "outputs": [],
   "source": [
    "# clean measurements\n",
    "# vis.visualize_y(y_clean, nx, ny, df, m, nump, figsize=(15, 15))"
   ]
  },
  {
   "cell_type": "code",
   "execution_count": 7,
   "metadata": {},
   "outputs": [],
   "source": [
    "# noisy measurements\n",
    "# vis.visualize_y(y_noisy, nx, ny, df, m, nump, figsize=(15, 8))"
   ]
  },
  {
   "cell_type": "markdown",
   "metadata": {},
   "source": [
    "Run twist"
   ]
  },
  {
   "cell_type": "code",
   "execution_count": 21,
   "metadata": {},
   "outputs": [
    {
     "name": "stdout",
     "output_type": "stream",
     "text": [
      "\n",
      "Initial objective = 4212677.5, nonzeros = 0\n",
      "Incrementing S = 2\n",
      "Incrementing S = 4\n",
      "Incrementing S = 8\n",
      "Incrementing S = 16\n",
      "Incrementing S = 32\n",
      "Incrementing S = 64\n",
      "Incrementing S = 128\n",
      "Incrementing S = 256\n",
      "Incrementing S = 512\n",
      "Incrementing S = 1024\n",
      "Incrementing S = 2048\n",
      "Incrementing S = 4096\n",
      "Incrementing S = 8192\n",
      "Incrementing S = 16384\n",
      "Incrementing S = 32768\n",
      "Incrementing S = 65536\n",
      "Incrementing S = 131072\n",
      "Iteration = 2, objective = 817420.0298857972, nz = 1024, criterion = 805.9618781912935\n",
      "Iteration = 3, objective = 390657.02089563943, nz = 1024, criterion = 522.0853335949956\n",
      "Iteration = 4, objective = 257608.25048479636, nz = 1024, criterion = 340.576933970901\n",
      "Iteration = 5, objective = 197824.94312246243, nz = 1024, criterion = 232.0706237080021\n",
      "Iteration = 6, objective = 164711.66946544324, nz = 1024, criterion = 167.3867467588281\n",
      "Iteration = 7, objective = 143452.13074977082, nz = 1024, criterion = 129.07123572159955\n",
      "Iteration = 8, objective = 128179.85495702417, nz = 1024, criterion = 106.46252316312174\n",
      "Iteration = 9, objective = 116641.52339989741, nz = 1024, criterion = 90.01673126401417\n",
      "Iteration = 10, objective = 107196.46652967045, nz = 1024, criterion = 80.97508155689326\n",
      "Iteration = 11, objective = 99567.69174501425, nz = 1024, criterion = 71.16628963273395\n",
      "Iteration = 12, objective = 92889.1362240859, nz = 1024, criterion = 67.07552825500517\n",
      "Iteration = 13, objective = 87366.36430815402, nz = 1024, criterion = 59.45552020861446\n",
      "Iteration = 14, objective = 82346.32013394687, nz = 1024, criterion = 57.459689595193886\n",
      "Iteration = 15, objective = 78160.57560105862, nz = 1024, criterion = 50.83098462784488\n",
      "Iteration = 16, objective = 74281.234921297, nz = 1024, criterion = 49.632959454677774\n",
      "Iteration = 17, objective = 71041.70745025609, nz = 1024, criterion = 43.611653393663715\n",
      "Iteration = 18, objective = 68000.58516124578, nz = 1024, criterion = 42.80756189791362\n",
      "Iteration = 19, objective = 65456.95411546598, nz = 1024, criterion = 37.406017018062904\n",
      "Iteration = 20, objective = 63060.66708863996, nz = 1024, criterion = 36.6085935284886\n",
      "Iteration = 21, objective = 61045.34694240548, nz = 1024, criterion = 31.958433668354413\n",
      "Iteration = 22, objective = 59144.01825374078, nz = 1024, criterion = 31.146168936652046\n",
      "Iteration = 23, objective = 57540.51683694551, nz = 1024, criterion = 27.111810528596425\n",
      "Iteration = 24, objective = 56023.01888920172, nz = 1024, criterion = 26.37268539043506\n",
      "Iteration = 25, objective = 54741.84166485704, nz = 1024, criterion = 22.868764478374427\n",
      "Iteration = 26, objective = 53530.02382506231, nz = 1024, criterion = 22.13695781763755\n",
      "Iteration = 27, objective = 52509.104807010015, nz = 1024, criterion = 19.071895454197556\n",
      "Iteration = 28, objective = 51534.54660704637, nz = 1024, criterion = 18.55979460220272\n",
      "Iteration = 29, objective = 50718.410332647676, nz = 1024, criterion = 15.836682926926269\n",
      "Iteration = 30, objective = 49927.334288831706, nz = 1024, criterion = 15.597414008592283\n",
      "Iteration = 31, objective = 49274.85300390277, nz = 1024, criterion = 13.068618507735783\n",
      "Iteration = 32, objective = 48631.311812466425, nz = 1024, criterion = 13.060235641603477\n",
      "Iteration = 33, objective = 48113.37489158639, nz = 1024, criterion = 10.650276572372116\n",
      "Iteration = 34, objective = 47584.353123367764, nz = 1024, criterion = 10.995316155033159\n",
      "Iteration = 35, objective = 47170.94874316775, nz = 1024, criterion = 8.687821795711267\n",
      "Iteration = 36, objective = 46735.5226221744, nz = 1024, criterion = 9.230811179230601\n",
      "Iteration = 37, objective = 46406.77691075203, nz = 1024, criterion = 7.034172145245124\n",
      "Iteration = 38, objective = 46052.772840798905, nz = 1024, criterion = 7.628283917108325\n",
      "Iteration = 39, objective = 45790.399679698334, nz = 1024, criterion = 5.697228308218843\n",
      "Iteration = 40, objective = 45496.12070961815, nz = 1024, criterion = 6.426652139720287\n",
      "Iteration = 41, objective = 45282.399181132445, nz = 1024, criterion = 4.697576961556777\n",
      "Iteration = 42, objective = 45037.06215913773, nz = 1024, criterion = 5.417933378780436\n",
      "Iteration = 43, objective = 44861.69382208781, nz = 1024, criterion = 3.893867153906688\n",
      "Iteration = 44, objective = 44656.92175458753, nz = 1024, criterion = 4.564519304874265\n",
      "Iteration = 45, objective = 44514.583857722595, nz = 1024, criterion = 3.1873647191168497\n",
      "Iteration = 46, objective = 44344.427033644926, nz = 1024, criterion = 3.82249611995753\n",
      "Iteration = 47, objective = 44227.05666727766, nz = 1024, criterion = 2.646789556627105\n",
      "Iteration = 48, objective = 44083.32054415022, nz = 1024, criterion = 3.249959051283353\n",
      "Iteration = 49, objective = 43983.03984882601, nz = 1024, criterion = 2.2747990415961925\n",
      "Iteration = 50, objective = 43862.42447642838, nz = 1024, criterion = 2.74231551098328\n",
      "Iteration = 51, objective = 43778.25752727717, nz = 1024, criterion = 1.9188850173213463\n",
      "Iteration = 52, objective = 43675.28229942972, nz = 1024, criterion = 2.3522002396576402\n",
      "Iteration = 53, objective = 43603.588763793705, nz = 1024, criterion = 1.6415128159789347\n",
      "Iteration = 54, objective = 43515.871582145, nz = 1024, criterion = 2.011696379485594\n",
      "Iteration = 55, objective = 43454.016542677375, nz = 1024, criterion = 1.4214362994169556\n",
      "Iteration = 56, objective = 43378.10451309478, nz = 1024, criterion = 1.7469508142713823\n",
      "Iteration = 57, objective = 43323.48647557828, nz = 1024, criterion = 1.2591153562281179\n",
      "Iteration = 58, objective = 43259.36521087744, nz = 1024, criterion = 1.4800578142985237\n",
      "Iteration = 59, objective = 43213.61878136945, nz = 1024, criterion = 1.0574919277014472\n",
      "Iteration = 60, objective = 43157.58416981448, nz = 1024, criterion = 1.2966887091420167\n",
      "Iteration = 61, objective = 43116.15338464346, nz = 1024, criterion = 0.9599885157611756\n",
      "\n",
      "Finished the main algorithm!\n",
      "Results:\n",
      "||A x - y ||_2 = 62065.13877072255\n",
      "||x||_1 = 131.52513775849718\n",
      "Objective function = 43116.15338464346\n",
      "Number of non-zero components = 1024\n",
      "CPU time so far = 1.125\n",
      "\n"
     ]
    }
   ],
   "source": [
    "y = y_noisy # observed data\n",
    "\n",
    "# absAty = np.abs(utils.AT(y, FM, nx, ny, nz))\n",
    "# tau = 1e-7*np.max(absAty) # Regularization parameter\n",
    "tau = 10 # Regularization parameter\n",
    "Psi = 'SOFT_DWT' # denoising function ('TV', 'SOFT', 'SOFT_DWT')\n",
    "Phi = 'L1_DWT' # regularization function ('TV', 'L1', 'L1_DWT')\n",
    "lam1 = 1e-4 # twist parameter\n",
    "stop_criterion = 1 # 0:non-zero components, 1:change in obj func, 2:estimate, 3:value of obj func \n",
    "tolA = 1e-3 # Stopping threshold\n",
    "init = 0 # 0:zero, 1:random, 2:Aty, 3:init_x given by user\n",
    "init_x = None # initial estimate\n",
    "\n",
    "x_twist, dummy, obj_twist, times_twist, dummy, mse_twist, dummy = TWIST.TwIST(y, FM, tau, nx, ny, nz,\n",
    "                                                                                Psi=Psi, Phi=Phi,\n",
    "                                                                                lam1=1e-4, alpha=0, beta=0,\n",
    "                                                                                stop_criterion=stop_criterion, tolA=tolA,\n",
    "                                                                                init=init, init_x=init_x,\n",
    "                                                                                enforceMonotone=1,\n",
    "                                                                                true_x=X, compute_mse=1,\n",
    "                                                                                verbose=1)"
   ]
  },
  {
   "cell_type": "code",
   "execution_count": 22,
   "metadata": {},
   "outputs": [],
   "source": [
    "# vis.obj_mse_twist(obj_twist, times_twist, mse_twist, figsize=(12, 5))"
   ]
  },
  {
   "cell_type": "markdown",
   "metadata": {},
   "source": [
    "lstsq reconstruction"
   ]
  },
  {
   "cell_type": "code",
   "execution_count": 23,
   "metadata": {},
   "outputs": [],
   "source": [
    "y_torch = torch.from_numpy(y) \n",
    "FM_torch = torch.from_numpy(FM) \n",
    "x_lstsq = torch.linalg.lstsq(FM_torch, y_torch).solution  "
   ]
  },
  {
   "cell_type": "markdown",
   "metadata": {},
   "source": [
    "lstq results"
   ]
  },
  {
   "cell_type": "code",
   "execution_count": 24,
   "metadata": {},
   "outputs": [],
   "source": [
    "# vis.comparison2(X, x_lstsq, nx, ny, nz, figsize=(15, 6), planes_to_plot=range(0,nz,1))"
   ]
  },
  {
   "cell_type": "markdown",
   "metadata": {},
   "source": [
    "twist results"
   ]
  },
  {
   "cell_type": "code",
   "execution_count": 25,
   "metadata": {},
   "outputs": [],
   "source": [
    "# vis.comparison2(X, x_twist, nx, ny, nz, figsize=(15, 8), planes_to_plot=range(1,nz,2))"
   ]
  },
  {
   "cell_type": "code",
   "execution_count": 26,
   "metadata": {},
   "outputs": [
    {
     "data": {
      "image/png": "[encoded data removed]",
      "text/plain": [
       "<Figure size 1500x600 with 3 Axes>"
      ]
     },
     "metadata": {},
     "output_type": "display_data"
    }
   ],
   "source": [
    "vis.comparison3(x_lstsq, X, x_twist, nx, ny, nz, figsize=(15, 6), planes_to_plot=range(0,nz,1))"
   ]
  }
 ],
 "metadata": {
  "kernelspec": {
   "display_name": "fwdModel",
   "language": "python",
   "name": "python3"
  },
  "language_info": {
   "codemirror_mode": {
    "name": "ipython",
    "version": 3
   },
   "file_extension": ".py",
   "mimetype": "text/x-python",
   "name": "python",
   "nbconvert_exporter": "python",
   "pygments_lexer": "ipython3",
   "version": "3.9.18"
  }
 },
 "nbformat": 4,
 "nbformat_minor": 2
}
