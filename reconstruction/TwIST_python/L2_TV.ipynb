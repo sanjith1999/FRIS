{
 "cells": [
  {
   "cell_type": "code",
   "execution_count": 52,
   "metadata": {},
   "outputs": [],
   "source": [
    "import scipy.io\n",
    "import utils\n",
    "import torch\n",
    "import numpy as np\n",
    "import TWIST\n",
    "import visualize as vis\n",
    "\n",
    "device = torch.device('cuda' if torch.cuda.is_available() else 'cpu')"
   ]
  },
  {
   "cell_type": "markdown",
   "metadata": {},
   "source": [
    "Load data"
   ]
  },
  {
   "cell_type": "code",
   "execution_count": 96,
   "metadata": {},
   "outputs": [],
   "source": [
    "data_path = '../data/NC_m16_np1_df0.25_32x32x1.mat'\n",
    "\n",
    "m = 16 # no of patterns\n",
    "nump = 1 # no of detected planes\n",
    "df = 0.25 # downsampling factor\n",
    "nx = 32 # width of a plane (dy = 1/3 um)\n",
    "ny = 32 # height of a plane (dx = 1/3 um)\n",
    "nz = 1 # number of planes (dz = 1 um)\n",
    "\n",
    "data = scipy.io.loadmat(data_path)\n",
    "\n",
    "FM = data['A']\n",
    "X = data['X_original'].T\n",
    "y_clean = data['Y'].T\n",
    "y_noisy = data['Yn'].T"
   ]
  },
  {
   "cell_type": "markdown",
   "metadata": {},
   "source": [
    "Visualize measurement matrix A"
   ]
  },
  {
   "cell_type": "code",
   "execution_count": 97,
   "metadata": {},
   "outputs": [],
   "source": [
    "# vis.visualize_A(FM, nx, ny, nz, nump, m, df, figsize=(6, 6))"
   ]
  },
  {
   "cell_type": "code",
   "execution_count": 98,
   "metadata": {},
   "outputs": [],
   "source": [
    "# vis.visualize_A(np.log(FM), nx, ny, nz, nump, m, df, figsize=(6, 6))"
   ]
  },
  {
   "cell_type": "markdown",
   "metadata": {},
   "source": [
    "Visualize object X"
   ]
  },
  {
   "cell_type": "code",
   "execution_count": 99,
   "metadata": {},
   "outputs": [],
   "source": [
    "# vis.visualize_X(X, nx, ny, nz, figsize=(15, 15), planes_to_plot=range(nz))"
   ]
  },
  {
   "cell_type": "markdown",
   "metadata": {},
   "source": [
    "Visualize measurement y"
   ]
  },
  {
   "cell_type": "code",
   "execution_count": 100,
   "metadata": {},
   "outputs": [],
   "source": [
    "# clean measurements\n",
    "# vis.visualize_y(y_clean, nx, ny, df, m, nump, figsize=(15, 15))"
   ]
  },
  {
   "cell_type": "code",
   "execution_count": 101,
   "metadata": {},
   "outputs": [],
   "source": [
    "# noisy measurements\n",
    "# vis.visualize_y(y_noisy, nx, ny, df, m, nump, figsize=(15, 8))"
   ]
  },
  {
   "cell_type": "markdown",
   "metadata": {},
   "source": [
    "Run twist"
   ]
  },
  {
   "cell_type": "code",
   "execution_count": 155,
   "metadata": {},
   "outputs": [
    {
     "name": "stdout",
     "output_type": "stream",
     "text": [
      "\n",
      "Initial objective = 1705037.0, nonzeros = 0\n",
      "Incrementing S = 2\n",
      "Incrementing S = 4\n",
      "Incrementing S = 8\n",
      "Incrementing S = 16\n",
      "Incrementing S = 32\n",
      "Incrementing S = 64\n",
      "Incrementing S = 128\n",
      "Incrementing S = 256\n",
      "Incrementing S = 512\n",
      "Incrementing S = 1024\n",
      "Incrementing S = 2048\n",
      "Incrementing S = 4096\n",
      "Incrementing S = 8192\n",
      "Incrementing S = 16384\n",
      "Incrementing S = 32768\n",
      "Incrementing S = 65536\n",
      "Iteration = 2, objective = 1050906.8609677288, nz = 1024, criterion = 0.0\n",
      "Incrementing S = 131072\n",
      "Iteration = 3, objective = 53481.73353265478, nz = 1024, criterion = 0.0\n",
      "Iteration = 4, objective = 17868.44785630945, nz = 1024, criterion = 0.0\n",
      "Iteration = 5, objective = 11624.904407692702, nz = 1024, criterion = 0.0\n",
      "Iteration = 6, objective = 3469.591629320854, nz = 1024, criterion = 0.0\n",
      "Iteration = 7, objective = 2183.618316940791, nz = 1024, criterion = 0.0\n",
      "\n",
      "Finished the main algorithm!\n",
      "Results:\n",
      "||A x - y ||_2 = 4367.236633881582\n",
      "||x||_1 = 109.10488596687074\n",
      "Objective function = 2183.618316940791\n",
      "Number of non-zero components = 1024\n",
      "CPU time so far = 0.03125\n",
      "\n"
     ]
    }
   ],
   "source": [
    "y = y_clean # observed data\n",
    "\n",
    "# absAty = np.abs(utils.AT(y, FM, nx, ny, nz))\n",
    "# tau = 1e-7*np.max(absAty) # Regularization parameter\n",
    "tau = 0 # Regularization parameter\n",
    "Psi = 'TV' # denoising function ('TV', 'SOFT', 'SOFT_FD')\n",
    "Phi = 'TV' # regularization function ('TV', 'L1', 'L1_FD')\n",
    "lam1 = 1e-4 # twist parameter\n",
    "stop_criterion = 1 # 0:non-zero components, 1:change in obj func, 2:estimate, 3:value of obj func \n",
    "tolA = 1e-3 # Stopping threshold\n",
    "init = 0 # 0:zero, 1:random, 2:Aty, 3:init_x given by user\n",
    "init_x = None # initial estimate\n",
    "\n",
    "x_twist, dummy, obj_twist, times_twist, dummy, mse_twist, dummy = TWIST.TwIST(y, FM, tau, nx, ny, nz,\n",
    "                                                                                Psi = Psi,\n",
    "                                                                                Phi = Phi,\n",
    "                                                                                lam1 = 1e-4, \n",
    "                                                                                alpha = 0,\n",
    "                                                                                beta = 0,\n",
    "                                                                                stop_criterion = stop_criterion,\n",
    "                                                                                tolA = tolA,\n",
    "                                                                                init = init,\n",
    "                                                                                init_x = init_x,\n",
    "                                                                                sparse = 0,\n",
    "                                                                                enforceMonotone = 1,\n",
    "                                                                                true_x = X,\n",
    "                                                                                compute_mse = 1,\n",
    "                                                                                verbose = 1)"
   ]
  },
  {
   "cell_type": "code",
   "execution_count": 156,
   "metadata": {},
   "outputs": [],
   "source": [
    "# vis.obj_mse_twist(obj_twist, times_twist, mse_twist, figsize=(12, 5))"
   ]
  },
  {
   "cell_type": "markdown",
   "metadata": {},
   "source": [
    "lstsq reconstruction"
   ]
  },
  {
   "cell_type": "code",
   "execution_count": 157,
   "metadata": {},
   "outputs": [],
   "source": [
    "y_torch = torch.from_numpy(y) \n",
    "FM_torch = torch.from_numpy(FM) \n",
    "x_lstsq = torch.linalg.lstsq(FM_torch, y_torch).solution  "
   ]
  },
  {
   "cell_type": "markdown",
   "metadata": {},
   "source": [
    "lstq results"
   ]
  },
  {
   "cell_type": "code",
   "execution_count": 158,
   "metadata": {},
   "outputs": [],
   "source": [
    "# vis.comparison2(X, x_lstsq, nx, ny, nz, figsize=(15, 6), planes_to_plot=range(0,nz,1))"
   ]
  },
  {
   "cell_type": "markdown",
   "metadata": {},
   "source": [
    "twist results"
   ]
  },
  {
   "cell_type": "code",
   "execution_count": 159,
   "metadata": {},
   "outputs": [],
   "source": [
    "# vis.comparison2(X, x_twist, nx, ny, nz, figsize=(15, 8), planes_to_plot=range(1,nz,2))"
   ]
  },
  {
   "cell_type": "code",
   "execution_count": 160,
   "metadata": {},
   "outputs": [
    {
     "data": {
      "image/png": "[encoded data removed]",
      "text/plain": [
       "<Figure size 1500x600 with 3 Axes>"
      ]
     },
     "metadata": {},
     "output_type": "display_data"
    }
   ],
   "source": [
    "vis.comparison3(x_lstsq, X, x_twist, nx, ny, nz, figsize=(15, 6), planes_to_plot=range(0,nz,1))"
   ]
  }
 ],
 "metadata": {
  "kernelspec": {
   "display_name": "fwdModel",
   "language": "python",
   "name": "python3"
  },
  "language_info": {
   "codemirror_mode": {
    "name": "ipython",
    "version": 3
   },
   "file_extension": ".py",
   "mimetype": "text/x-python",
   "name": "python",
   "nbconvert_exporter": "python",
   "pygments_lexer": "ipython3",
   "version": "3.9.18"
  }
 },
 "nbformat": 4,
 "nbformat_minor": 2
}
