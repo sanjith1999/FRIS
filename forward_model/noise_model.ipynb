{
 "cells": [
  {
   "cell_type": "code",
   "execution_count": 9,
   "metadata": {},
   "outputs": [],
   "source": [
    "dark_current = 0.005    #  [e-/px/s]  Dark current of the camera\n",
    "exposure_time =  1      #  [s] Exposure time in seconds\n",
    "max_photons = 1     # Maximum number of photons\n",
    "rep_count = 100     # number of repetitions for generating em\n",
    "alpha = 0.01    # probability of electron multiplying\n",
    "N = 2   #number of gain stages\n",
    "sigma_read = 0.005     # S.D of read noise\n",
    "g_EM = 32   # EM gain"
   ]
  },
  {
   "cell_type": "code",
   "execution_count": null,
   "metadata": {},
   "outputs": [],
   "source": [
    "import torch\n",
    "import numpy as np\n",
    "cam_dYdt_dark = .005\n",
    "cam_t_exp = 1\n",
    "\n",
    "def noise_model(det_Y):\n",
    "\n",
    "    # Dark Noise Model\n",
    "    Ydark   = cam_dYdt_dark * cam_t_exp\n",
    "    Yhat        = torch.poisson(det_Y + Ydark)\n",
    "\n",
    "    "
   ]
  },
  {
   "cell_type": "code",
   "execution_count": 11,
   "metadata": {},
   "outputs": [],
   "source": [
    "def f_genEmhist(max_photons, rep_count,N,alpha):\n",
    "    in_photons = np.arange(1, max_photons + 1)\n",
    "\n",
    "    emhist_100 = np.tile(in_photons, (100, 1)).T\n",
    "    emhist = [emhist_100.copy() for _ in range(rep_count // 100)]\n",
    "\n",
    "    def simulate_gain_stage(emhist_slice, alpha):\n",
    "        for _ in range(N):\n",
    "            emhist_slice += np.random.binomial(emhist_slice, alpha)\n",
    "\n",
    "    def process_slice(args):\n",
    "        emhist_slice, alpha = args\n",
    "        simulate_gain_stage(emhist_slice, alpha)\n",
    "        return emhist_slice\n",
    "\n",
    "    for i in tqdm(range(len(emhist))):\n",
    "        emhist_slice = emhist[i]\n",
    "        args = (emhist_slice, alpha)\n",
    "\n",
    "    emhist = np.concatenate(emhist, axis=1)\n",
    "\n",
    "    return emhist\n"
   ]
  },
  {
   "cell_type": "code",
   "execution_count": null,
   "metadata": {},
   "outputs": [],
   "source": []
  }
 ],
 "metadata": {
  "kernelspec": {
   "display_name": "cv",
   "language": "python",
   "name": "python3"
  },
  "language_info": {
   "codemirror_mode": {
    "name": "ipython",
    "version": 3
   },
   "file_extension": ".py",
   "mimetype": "text/x-python",
   "name": "python",
   "nbconvert_exporter": "python",
   "pygments_lexer": "ipython3",
   "version": "3.11.4"
  }
 },
 "nbformat": 4,
 "nbformat_minor": 2
}
