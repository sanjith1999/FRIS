{
 "cells": [
  {
   "cell_type": "code",
   "execution_count": 2,
   "metadata": {},
   "outputs": [],
   "source": [
    "# IMPORTS\n",
    "import torch\n",
    "\n",
    "\n",
    "# import scipy.special\n",
    "# import matplotlib.pyplot as plt\n",
    "# import torchvision.transforms.functional as TF\n",
    "\n",
    "# import torch.optim as optim\n",
    "# import torch.nn.functional as F\n",
    "# from skimage.metrics import structural_similarity as ssim\n",
    "# from skimage.metrics import peak_signal_noise_ratio as psnr\n",
    "import libs.forward_model as fm\n",
    "import libs.read_data as rd\n",
    "\n",
    "device = torch.device('cuda' if torch.cuda.is_available() else 'cpu')"
   ]
  },
  {
   "cell_type": "markdown",
   "metadata": {},
   "source": [
    "### Parameters"
   ]
  },
  {
   "cell_type": "code",
   "execution_count": 3,
   "metadata": {},
   "outputs": [
    {
     "name": "stdout",
     "output_type": "stream",
     "text": [
      "Point Spread Function Initialization Failed...!!!\n",
      "Sucessfully Initialized DMD Pattern...!!!\n",
      "Sucessfully Initialized Read Data Parameters...!!!\n"
     ]
    }
   ],
   "source": [
    "# Parameter Definition\n",
    "NA = .25\n",
    "Rindex= 1\n",
    "lambda_= 532.0/ 1000 #um\n",
    "dx= 2.0 #um\n",
    "\n",
    "Nx,Ny,Nz = 4,4,4\n",
    "\n",
    "fm.init_parameters(NA_=NA, Rindex_=Rindex, lambda_=lambda_, dx_=dx, Nx_=Nx, Ny_=Ny, Nz_=Nz)\n",
    "fm.init_DMD()\n",
    "rd.init_parameters(Nx,Ny,Nz)"
   ]
  },
  {
   "cell_type": "markdown",
   "metadata": {},
   "source": [
    "### Forward Model"
   ]
  },
  {
   "cell_type": "markdown",
   "metadata": {},
   "source": [
    "$$ H_1(x,y,z) = H(x,y,z=z_f)\\ \\star_{\\tiny 3D}\\ \\texttt{exPSF}(x,y,z) \\qquad\\to\\qquad H_2(x,y,z) = \\|H_1(x,y,z)\\|$$ \n",
    "\n",
    "\n",
    "\n",
    "$$H_3(x,y,z) = X(x,y,z) \\circ H_2(x,y,z) \\qquad \\to \\qquad Y(x,y,z) = \\texttt{emPSF}(x,y,z)\\ \\star_{\\tiny 3D}\\ H_3(x,y,z)$$\n",
    "\n",
    "The $\\texttt{exPSF}(.)$ is modelled considering the coherance nature of laser light whereas the $\\texttt{emPSF}(.)$ is defined in a incoherant manner<br>\n",
    "\n",
    "[Image Data](https://bigwww.epfl.ch/deconvolution/bead/)"
   ]
  },
  {
   "cell_type": "code",
   "execution_count": 3,
   "metadata": {},
   "outputs": [
    {
     "name": "stdout",
     "output_type": "stream",
     "text": [
      "Failed to Load Object...!!!\n"
     ]
    },
    {
     "data": {
      "text/plain": [
       "0"
      ]
     },
     "execution_count": 3,
     "metadata": {},
     "output_type": "execute_result"
    }
   ],
   "source": [
    "import libs.read_data as rd\n",
    "rd.load_object(\"3D_sphere\")"
   ]
  },
  {
   "cell_type": "code",
   "execution_count": 8,
   "metadata": {},
   "outputs": [
    {
     "data": {
      "text/plain": [
       "torch.Size([1, 4, 4, 4])"
      ]
     },
     "execution_count": 8,
     "metadata": {},
     "output_type": "execute_result"
    }
   ],
   "source": [
    "rd.X.shape"
   ]
  },
  {
   "cell_type": "markdown",
   "metadata": {},
   "source": [
    "## Approximation of A"
   ]
  },
  {
   "cell_type": "markdown",
   "metadata": {},
   "source": [
    "$$Y_{\\tiny N_x\\cdot N_y\\cdot m\\times1} = A_{\\tiny N_x\\cdot N_y\\cdot m\\times N_x\\cdot N_y\\cdot N_z}\\cdot X_{\\tiny N_x\\cdot N_y\\cdot N_z\\times 1}$$"
   ]
  },
  {
   "cell_type": "code",
   "execution_count": 898,
   "metadata": {},
   "outputs": [],
   "source": [
    "m = 16\n",
    "A = torch.zeros(Nx*Ny*m,Nx*Ny*Nz).float().to(device)\n",
    "\n",
    "# Lets Fix Ht ~ # = m\n",
    "Ht_2D_list = []\n",
    "\n",
    "for _ in range(m):\n",
    "    patch_size = max(min(Nx, Ny) // 20,1)\n",
    "    Ht_2D = (torch.randn(Nx // patch_size, Ny // patch_size) > 0).float()\n",
    "    Ht_2D = Ht_2D.repeat_interleave(patch_size , dim=0).repeat_interleave(patch_size, dim=1)[:Nx, :Ny]\n",
    "    Ht_2D_list.append(Ht_2D)\n",
    "\n",
    "\n",
    "def extended_forward_model(X):\n",
    "    Y = torch.tensor([]).to(device)\n",
    "    for Ht_2D in Ht_2D_list:\n",
    "        Yi = forward_model(X,Ht_2D)\n",
    "        Yi_flatten = Yi.flatten()\n",
    "        Y = torch.cat((Y, Yi_flatten), dim=0)\n",
    "    return Y\n",
    "\n",
    "I = torch.zeros(1, Nz, Nx, Ny).float().to(device)\n",
    "for i_z in range(Nz):\n",
    "    for i_x in range(Nx):\n",
    "        for i_y  in range(Ny):\n",
    "            I[0,i_z,i_x,i_y] = 1\n",
    "            A [:,i_z*Ny*Nx+ i_x*Ny+i_y] = extended_forward_model(I)\n",
    "            I[0,i_z,i_x,i_y] = 0\n",
    "\n",
    "def one_shot_model(X):\n",
    "    return torch.matmul(A,X)"
   ]
  },
  {
   "cell_type": "markdown",
   "metadata": {},
   "source": [
    "## Reconstruction\n",
    "$$y=A\\cdot x\\implies b = (A^{\\tiny T}\\cdot A)\\cdot x\\qquad where\\quad b = A^{\\tiny T}\\cdot y$$"
   ]
  },
  {
   "cell_type": "code",
   "execution_count": 899,
   "metadata": {},
   "outputs": [
    {
     "name": "stdout",
     "output_type": "stream",
     "text": [
      "Conditional Number: 4197494528.0\n",
      "Rank : 186\n"
     ]
    }
   ],
   "source": [
    "ATA = (A.T@A).float()\n",
    "print(f\"Conditional Number: {torch.linalg.cond(ATA)}\")\n",
    "print(f\"Rank : {torch.linalg.matrix_rank(ATA)}\")"
   ]
  },
  {
   "cell_type": "markdown",
   "metadata": {},
   "source": [
    "***Basic Solution***"
   ]
  },
  {
   "cell_type": "markdown",
   "metadata": {},
   "source": [
    "$$Y = A\\cdot X \\implies A^{\\tiny T}\\cdot Y  = (A^{\\tiny T}\\cdot A)\\cdot X\\implies X = (A^{\\tiny T}\\cdot A)^{-1}\\cdot A^{\\tiny T}\\cdot Y  $$"
   ]
  },
  {
   "cell_type": "code",
   "execution_count": 900,
   "metadata": {},
   "outputs": [],
   "source": [
    "def reconstruct_image_basic(y):\n",
    "    A_pseudo_inv = torch.linalg.pinv(A)   # torch.linalg.pinv(A.T@A)@A.T\n",
    "    return torch.matmul(A_pseudo_inv, y)"
   ]
  },
  {
   "cell_type": "markdown",
   "metadata": {},
   "source": [
    "***LU Decomposition Based Solution***"
   ]
  },
  {
   "cell_type": "code",
   "execution_count": 901,
   "metadata": {},
   "outputs": [],
   "source": [
    "def reconstruct_image_lu(y):\n",
    "    b = (A.T@y).view(-1,1)\n",
    "    LU, pivots = torch.lu(ATA)\n",
    "    return torch.lu_solve(b, LU, pivots)"
   ]
  },
  {
   "cell_type": "markdown",
   "metadata": {},
   "source": [
    "***Cholesky Decomposition Based Solution***"
   ]
  },
  {
   "cell_type": "code",
   "execution_count": 902,
   "metadata": {},
   "outputs": [],
   "source": [
    "def reconstruct_image_ch(y):\n",
    "    b = (A.T@y).view(-1,1)\n",
    "    U = torch.cholesky(ATA, upper=False)\n",
    "    return torch.cholesky_solve(b, U, upper=False)"
   ]
  },
  {
   "cell_type": "markdown",
   "metadata": {},
   "source": [
    "***Gradient Descent Based***\n",
    "\n",
    "$$x_0\\xrightarrow{\\texttt{Loss Calculation}}L =\\| Ax_0 - b\\|\\xrightarrow{\\texttt{Gradient Descent}}x_1\\dots \\to L=0$$ "
   ]
  },
  {
   "cell_type": "code",
   "execution_count": 903,
   "metadata": {},
   "outputs": [],
   "source": [
    "def reconstruct_image_gd(y, learning_rate = 1e-1, num_iter = 50000):\n",
    "    # RANDOM INTIALIZATION OF X\n",
    "    x = torch.autograd.Variable(torch.rand(Nx*Ny*Nz,1,dtype = torch.float32).to(device), requires_grad=True)\n",
    "\n",
    "    # Define the optimizer\n",
    "    optimizer = optim.SGD([x], lr=learning_rate)\n",
    "\n",
    "    # Gradient descent optimization loop\n",
    "    for iter in range(num_iter+1):\n",
    "        loss = torch.norm(A@x-y,p=2)\n",
    "        loss.backward()\n",
    "        optimizer.step()\n",
    "        if(iter%10000 == 0):\n",
    "            print(f\"At Iteration {iter} Error is: {loss}\")\n",
    "        optimizer.zero_grad()\n",
    "    return x"
   ]
  },
  {
   "cell_type": "markdown",
   "metadata": {},
   "source": [
    "***Results***"
   ]
  },
  {
   "cell_type": "code",
   "execution_count": 904,
   "metadata": {},
   "outputs": [],
   "source": [
    "X_original = random_cube.flatten()\n",
    "Y = one_shot_model(X_original)\n",
    "X_reconstructed = torch.linalg.lstsq(A,Y).solution           #reconstruct_image_gd(Y)"
   ]
  },
  {
   "cell_type": "code",
   "execution_count": 905,
   "metadata": {},
   "outputs": [
    {
     "data": {
      "image/png": "[encoded data removed]",
      "text/plain": [
       "<Figure size 2000x200 with 8 Axes>"
      ]
     },
     "metadata": {},
     "output_type": "display_data"
    },
    {
     "data": {
      "image/png": "[encoded data removed]",
      "text/plain": [
       "<Figure size 2000x200 with 8 Axes>"
      ]
     },
     "metadata": {},
     "output_type": "display_data"
    }
   ],
   "source": [
    "X3D_recons = X_reconstructed.view(Nz,Nx, Ny)\n",
    "X3D_orig = X_original.view(Nz,Nx,Ny)\n",
    "show_planes_z(X3D_orig.detach().cpu().numpy(),\"Object\",[i for i in range(Nz)])\n",
    "show_planes_z(X3D_recons.detach().cpu().numpy(),\"Reconstructed Image\",[i for i in range(Nz)])"
   ]
  },
  {
   "cell_type": "markdown",
   "metadata": {},
   "source": [
    "## Validation & Verification"
   ]
  },
  {
   "cell_type": "markdown",
   "metadata": {},
   "source": [
    "### Experiments on Data"
   ]
  },
  {
   "cell_type": "markdown",
   "metadata": {},
   "source": [
    "***Effect of Center Plane: Neural Data***"
   ]
  },
  {
   "cell_type": "code",
   "execution_count": null,
   "metadata": {},
   "outputs": [],
   "source": [
    "random_cube_e1 = random_cube.clone()\n",
    "random_cube_e1[0,40:60,:,:] = 0\n",
    "show_planes_z(random_cube_e1.detach().cpu().numpy()[0,:,:,:],\"Zero Center Plane\",[0,12,24,36,50, 60,72,84,96])\n",
    "det_image_e1=forward_model(random_cube_e1,Ht_2D,3)\n",
    "print(f\"SSIM(Original, Maksed Center Plane) : {ssim(det_image_orig.detach().cpu().float().numpy(),det_image_e1.detach().cpu().float().numpy())}\")"
   ]
  },
  {
   "cell_type": "markdown",
   "metadata": {},
   "source": [
    "***Only the Center Plane is Non-Zero***"
   ]
  },
  {
   "cell_type": "code",
   "execution_count": null,
   "metadata": {},
   "outputs": [],
   "source": [
    "random_cube_e2 = random_cube.clone()\n",
    "random_cube_e2[0,:50,:,:] = 0\n",
    "random_cube_e2[0,51:,:,:] = 0\n",
    "show_planes_z(random_cube_e2.detach().cpu().numpy()[0,:,:,:],\"Non-Zero Only in Center Plane\",[0,12,24,36,50, 60,72,84,96])\n",
    "det_image_e2=forward_model(random_cube_e2,Ht_2D,3)\n",
    "print(f\"SSIM(Original, Focal Plane Object) : {ssim(det_image_orig.detach().cpu().float().numpy(),det_image_e2.detach().cpu().float().numpy())}\")"
   ]
  },
  {
   "cell_type": "markdown",
   "metadata": {},
   "source": [
    "***Slice-wise Comparision***"
   ]
  },
  {
   "cell_type": "code",
   "execution_count": null,
   "metadata": {},
   "outputs": [],
   "source": [
    "SSIM_list = []\n",
    "mask_centers = []\n",
    "ws = 8 # WINDOWSIZE\n",
    "\n",
    "for mask in range(Nz//ws+1):\n",
    "    random_cube_exp = random_cube.clone()\n",
    "    random_cube_exp[0,mask*ws:(mask+1)*ws,:,:] = 0\n",
    "    det_image_exp = forward_model(random_cube_exp, Ht_2D, 0)\n",
    "    SSIM_score = ssim(det_image_orig.detach().cpu().float().numpy(),det_image_exp.detach().cpu().float().numpy())\n",
    "    SSIM_list.append(SSIM_score), mask_centers.append(mask*ws+ws/2)\n",
    "    print(f\"Mask Out z={mask*ws}\\t->   z={(mask+1)*ws},\\t SSIM_score = {SSIM_score} \")\n",
    "\n",
    "plt.figure(figsize=(6, 6))  # Adjust the figure size if needed\n",
    "plt.plot(mask_centers, SSIM_list, marker='o', linestyle='-')\n",
    "plt.title(f'SSIM Scores (Window Size = {ws})')\n",
    "plt.xlabel('Mask Center')\n",
    "plt.ylabel('SSIM Score')\n",
    "plt.grid(True)\n"
   ]
  },
  {
   "cell_type": "markdown",
   "metadata": {},
   "source": [
    "### Visualization and Verification of A"
   ]
  },
  {
   "cell_type": "markdown",
   "metadata": {},
   "source": [
    "***Visualization of A***"
   ]
  },
  {
   "cell_type": "code",
   "execution_count": null,
   "metadata": {},
   "outputs": [],
   "source": [
    "A_ = A.detach().cpu().numpy()\n",
    "A_[A_==0] = 1e-30\n",
    "A_ = np.log(A_)\n",
    "show_image(A_,fig_size=(6,6),title=\"A(Log Scale)\")"
   ]
  },
  {
   "cell_type": "markdown",
   "metadata": {},
   "source": [
    "***Verification of A***"
   ]
  },
  {
   "cell_type": "code",
   "execution_count": null,
   "metadata": {},
   "outputs": [],
   "source": [
    "Y1 = extended_forward_model(random_cube)\n",
    "Y2 = one_shot_model(random_cube.flatten())\n",
    "\n",
    "tolerance = 1e-6\n",
    "are_approx_equal = torch.allclose(Y1, Y2, atol=tolerance)\n",
    "\n",
    "if are_approx_equal:\n",
    "    print(\"The vectors are approximately the same.\")\n",
    "else:\n",
    "    print(\"The vectors are different.\")"
   ]
  }
 ],
 "metadata": {
  "kernelspec": {
   "display_name": "FRIS",
   "language": "python",
   "name": "python3"
  },
  "language_info": {
   "codemirror_mode": {
    "name": "ipython",
    "version": 3
   },
   "file_extension": ".py",
   "mimetype": "text/x-python",
   "name": "python",
   "nbconvert_exporter": "python",
   "pygments_lexer": "ipython3",
   "version": "3.7.9"
  },
  "orig_nbformat": 4
 },
 "nbformat": 4,
 "nbformat_minor": 2
}
