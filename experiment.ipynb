{
 "cells": [
  {
   "cell_type": "code",
   "execution_count": null,
   "metadata": {},
   "outputs": [],
   "source": [
    "from libs.forward_lib.linearized_process import LinearizedModel\n",
    "\n",
    "LM = LinearizedModel()\n",
    "LM.load_matrix(it = 129, is_original=False)\n",
    "print(LM)\n",
    "LM.visualize_A()"
   ]
  },
  {
   "cell_type": "markdown",
   "metadata": {},
   "source": [
    "### Measurement Comparision"
   ]
  },
  {
   "cell_type": "code",
   "execution_count": null,
   "metadata": {},
   "outputs": [],
   "source": [
    "import torch\n",
    "from libs.forward_lib.linearized_process import LinearizedModel\n",
    "from libs.forward_lib.visualizer import show_images, visualize_vectors, visualize_SSIM\n",
    "from skimage.metrics import structural_similarity as ssim\n",
    "\n",
    "LM = LinearizedModel()\n",
    "LM.load_matrix(it=129, is_original=False)\n",
    "\n",
    "b = 11\n",
    "x_r =  torch.load(\"./data/dataset/X_r_0.pt\")[b].to(LM.device)\n",
    "y_o  = torch.load(\"./data/dataset/Y_0.pt\")[b].to(LM.device)\n",
    "\n",
    "y_a = LM.A@x_r\n",
    "\n",
    "\n",
    "m1 = y_o.view(32, 16,16).detach().cpu().numpy()/1024\n",
    "m2 = y_a.view(32, 16,16).detach().cpu().numpy()\n",
    "ssim_list=  []\n",
    "for n_p in range(0,32):\n",
    "    show_images([m1[n_p], m2[n_p]],titles=[f\"Pattern: {n_p} ~ Original\", f\"Pattern: {n_p} ~ Approximated\"], cols=2, figsize=(6,4))\n",
    "    ssim_list.append(ssim(m1[n_p], m2[n_p], data_range=m2.max()-m2.min()))\n",
    "visualize_SSIM([ssim_list], [i for i in range(1, 33)],x_label=\"Pattern\")\n",
    "visualize_vectors([y_o.flatten().detach().cpu()/1024, y_a.flatten().detach().cpu()], titles=[\"Original(scaled) Measurement\", \"Approximated Measurement\"])"
   ]
  },
  {
   "cell_type": "code",
   "execution_count": null,
   "metadata": {},
   "outputs": [],
   "source": [
    "from libs.forward_lib.read_data import ReadData\n",
    "\n",
    "RD = ReadData(128, 128, 128, 1)\n",
    "RD.load_object('blood_cell')\n",
    "RD.reduce_dimension()\n",
    "RD.visualize_data(is_orginal=True)\n",
    "RD.visualize_data(is_orginal=False)\n",
    "print(RD)"
   ]
  },
  {
   "cell_type": "code",
   "execution_count": null,
   "metadata": {},
   "outputs": [],
   "source": [
    "from libs.forward_lib.linearized_process import LinearizedModel\n",
    "from libs.forward_lib.visualizer import show_images, visualize_vectors\n",
    "\n",
    "\n",
    "IT = 0\n",
    "LM = LinearizedModel()\n",
    "LM.load_matrix(it=IT, is_original=True)\n",
    "y_o = LM.A@RD.X.flatten()\n",
    "\n",
    "LM.load_matrix(it=IT, is_original=False)\n",
    "y_a = LM.A@RD.X_r.flatten()\n",
    "\n",
    "\n",
    "m1 = y_o.view(2, 16,16)\n",
    "m2 = y_a.view(2, 16,16)\n",
    "for n_p in range(0,2):\n",
    "    show_images([m1[n_p].detach().cpu().numpy(), m2[n_p].detach().cpu().numpy()],titles=[f\"Pattern: {n_p+2} ~ Original\", f\"Pattern: {n_p+2} ~ Approximated\"], cols=2, figsize=(6,4))\n",
    "visualize_vectors([y_o.flatten().detach().cpu()/1024, y_a.flatten().detach().cpu()], titles=[\"Original(scaled) Measurement\", \"Approximated Measurement\"])"
   ]
  }
 ],
 "metadata": {
  "kernelspec": {
   "display_name": "FRIS",
   "language": "python",
   "name": "python3"
  },
  "language_info": {
   "codemirror_mode": {
    "name": "ipython",
    "version": 3
   },
   "file_extension": ".py",
   "mimetype": "text/x-python",
   "name": "python",
   "nbconvert_exporter": "python",
   "pygments_lexer": "ipython3",
   "version": "3.9.7"
  }
 },
 "nbformat": 4,
 "nbformat_minor": 2
}
