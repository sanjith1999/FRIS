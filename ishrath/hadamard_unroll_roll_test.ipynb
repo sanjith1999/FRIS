{
 "cells": [
  {
   "cell_type": "code",
   "execution_count": 1,
   "metadata": {},
   "outputs": [],
   "source": [
    "import numpy as np"
   ]
  },
  {
   "cell_type": "code",
   "execution_count": 2,
   "metadata": {},
   "outputs": [],
   "source": [
    "def create_random_matrix(n):\n",
    "  \"\"\"Creates a random matrix with nxn dimensions and random numbers ranging from 0 to 255.\"\"\"\n",
    "  matrix = np.random.randint(0, 256, (n, n))\n",
    "  return matrix\n",
    "\n",
    "def unroll_matrix(matrix):\n",
    "  \"\"\"Unrolls the matrix into a vector.\"\"\"\n",
    "  x_ur = matrix.reshape(-1, 1)\n",
    "  return x_ur\n",
    "\n",
    "def hadamard_matrix(order):\n",
    "    if order == 1:\n",
    "        return np.array([[1]])\n",
    "    \n",
    "    if order % 2 == 1:\n",
    "        raise ValueError(\"Order must be a power of 2.\")\n",
    "    \n",
    "    # Generate a Hadamard matrix of half the order\n",
    "    h_half = hadamard_matrix(order // 2)\n",
    "    \n",
    "    # Create the Hadamard matrix of the given order by combining the four quadrants\n",
    "    h_top_left = h_half\n",
    "    h_top_right = h_half\n",
    "    h_bottom_left = h_half\n",
    "    h_bottom_right = -h_half\n",
    "    \n",
    "    return np.block([[h_top_left, h_top_right], [h_bottom_left, h_bottom_right]])\n"
   ]
  },
  {
   "cell_type": "code",
   "execution_count": 3,
   "metadata": {},
   "outputs": [
    {
     "name": "stdout",
     "output_type": "stream",
     "text": [
      "X\n",
      "(4, 4)\n",
      "[[  4  68  59 255]\n",
      " [215  13  68 144]\n",
      " [187  48 181 195]\n",
      " [150  75  68 148]]\n"
     ]
    }
   ],
   "source": [
    "n = 4\n",
    "X = create_random_matrix(n)\n",
    "print('X')\n",
    "print(X.shape)\n",
    "print(X)"
   ]
  },
  {
   "cell_type": "code",
   "execution_count": 4,
   "metadata": {},
   "outputs": [
    {
     "name": "stdout",
     "output_type": "stream",
     "text": [
      "X unrolled\n",
      "(16, 1)\n",
      "[[  4]\n",
      " [ 68]\n",
      " [ 59]\n",
      " [255]\n",
      " [215]\n",
      " [ 13]\n",
      " [ 68]\n",
      " [144]\n",
      " [187]\n",
      " [ 48]\n",
      " [181]\n",
      " [195]\n",
      " [150]\n",
      " [ 75]\n",
      " [ 68]\n",
      " [148]]\n"
     ]
    }
   ],
   "source": [
    "X_UR = unroll_matrix(X)\n",
    "print('X unrolled')\n",
    "print(X_UR.shape)\n",
    "print(X_UR)"
   ]
  },
  {
   "cell_type": "markdown",
   "metadata": {},
   "source": [
    "A is selected as Hadamard matrix\n",
    "\n",
    "- Orthogonality\n",
    "- Incoherence\n",
    "- Universality"
   ]
  },
  {
   "cell_type": "code",
   "execution_count": 5,
   "metadata": {},
   "outputs": [
    {
     "name": "stdout",
     "output_type": "stream",
     "text": [
      "A\n",
      "(16, 16)\n",
      "[[ 1  1  1  1  1  1  1  1  1  1  1  1  1  1  1  1]\n",
      " [ 1 -1  1 -1  1 -1  1 -1  1 -1  1 -1  1 -1  1 -1]\n",
      " [ 1  1 -1 -1  1  1 -1 -1  1  1 -1 -1  1  1 -1 -1]\n",
      " [ 1 -1 -1  1  1 -1 -1  1  1 -1 -1  1  1 -1 -1  1]\n",
      " [ 1  1  1  1 -1 -1 -1 -1  1  1  1  1 -1 -1 -1 -1]\n",
      " [ 1 -1  1 -1 -1  1 -1  1  1 -1  1 -1 -1  1 -1  1]\n",
      " [ 1  1 -1 -1 -1 -1  1  1  1  1 -1 -1 -1 -1  1  1]\n",
      " [ 1 -1 -1  1 -1  1  1 -1  1 -1 -1  1 -1  1  1 -1]\n",
      " [ 1  1  1  1  1  1  1  1 -1 -1 -1 -1 -1 -1 -1 -1]\n",
      " [ 1 -1  1 -1  1 -1  1 -1 -1  1 -1  1 -1  1 -1  1]\n",
      " [ 1  1 -1 -1  1  1 -1 -1 -1 -1  1  1 -1 -1  1  1]\n",
      " [ 1 -1 -1  1  1 -1 -1  1 -1  1  1 -1 -1  1  1 -1]\n",
      " [ 1  1  1  1 -1 -1 -1 -1 -1 -1 -1 -1  1  1  1  1]\n",
      " [ 1 -1  1 -1 -1  1 -1  1 -1  1 -1  1  1 -1  1 -1]\n",
      " [ 1  1 -1 -1 -1 -1  1  1 -1 -1  1  1  1  1 -1 -1]\n",
      " [ 1 -1 -1  1 -1  1  1 -1 -1  1  1 -1  1 -1 -1  1]]\n"
     ]
    }
   ],
   "source": [
    "A = hadamard_matrix(n*n)\n",
    "print('A')\n",
    "print(A.shape)\n",
    "print(A)"
   ]
  },
  {
   "cell_type": "code",
   "execution_count": 6,
   "metadata": {},
   "outputs": [
    {
     "name": "stdout",
     "output_type": "stream",
     "text": [
      "P\n",
      "(4, 4)\n",
      "[[ 1  1  1  1]\n",
      " [ 1 -1  1 -1]\n",
      " [ 1  1 -1 -1]\n",
      " [ 1 -1 -1  1]]\n"
     ]
    }
   ],
   "source": [
    "P = hadamard_matrix(n)\n",
    "print('P')\n",
    "print(P.shape)\n",
    "print(P)"
   ]
  },
  {
   "cell_type": "markdown",
   "metadata": {},
   "source": [
    "Traditional measurment"
   ]
  },
  {
   "cell_type": "code",
   "execution_count": 7,
   "metadata": {},
   "outputs": [
    {
     "name": "stdout",
     "output_type": "stream",
     "text": [
      "Y sampled from A\n",
      "(16, 1)\n",
      "[[1878]\n",
      " [ -14]\n",
      " [-358]\n",
      " [ 718]\n",
      " [ 116]\n",
      " [-256]\n",
      " [-408]\n",
      " [-148]\n",
      " [-226]\n",
      " [-254]\n",
      " [ -94]\n",
      " [ 102]\n",
      " [-224]\n",
      " [-516]\n",
      " [-108]\n",
      " [-144]]\n"
     ]
    }
   ],
   "source": [
    "Y_from_A = np.matmul(A, X_UR)\n",
    "print('Y sampled from A')\n",
    "print(Y_from_A.shape)\n",
    "print(Y_from_A)"
   ]
  },
  {
   "cell_type": "markdown",
   "metadata": {},
   "source": [
    "Measurement in MOSAIC"
   ]
  },
  {
   "cell_type": "code",
   "execution_count": 8,
   "metadata": {},
   "outputs": [
    {
     "name": "stdout",
     "output_type": "stream",
     "text": [
      "Y sampled from P\n",
      "(4, 4)\n",
      "[[1878  -14 -358  718]\n",
      " [ 116 -256 -408 -148]\n",
      " [-226 -254  -94  102]\n",
      " [-224 -516 -108 -144]]\n"
     ]
    }
   ],
   "source": [
    "Y_from_P = np.matmul(P, np.matmul(X, P.T))\n",
    "print('Y sampled from P')\n",
    "print(Y_from_P.shape)\n",
    "print(Y_from_P)"
   ]
  },
  {
   "cell_type": "markdown",
   "metadata": {},
   "source": [
    "Comparing the 2 measurments"
   ]
  },
  {
   "cell_type": "code",
   "execution_count": 9,
   "metadata": {},
   "outputs": [
    {
     "name": "stdout",
     "output_type": "stream",
     "text": [
      "[[ True]\n",
      " [ True]\n",
      " [ True]\n",
      " [ True]\n",
      " [ True]\n",
      " [ True]\n",
      " [ True]\n",
      " [ True]\n",
      " [ True]\n",
      " [ True]\n",
      " [ True]\n",
      " [ True]\n",
      " [ True]\n",
      " [ True]\n",
      " [ True]\n",
      " [ True]]\n"
     ]
    }
   ],
   "source": [
    "Y_from_P_UR = unroll_matrix(Y_from_P)\n",
    "print(Y_from_A == Y_from_P_UR)"
   ]
  },
  {
   "cell_type": "markdown",
   "metadata": {},
   "source": [
    "## Constructing A from P"
   ]
  },
  {
   "cell_type": "code",
   "execution_count": 18,
   "metadata": {},
   "outputs": [
    {
     "data": {
      "text/plain": [
       "array([[ True,  True,  True,  True,  True,  True,  True,  True,  True,\n",
       "         True,  True,  True,  True,  True,  True,  True],\n",
       "       [ True,  True,  True,  True,  True,  True,  True,  True,  True,\n",
       "         True,  True,  True,  True,  True,  True,  True],\n",
       "       [ True,  True,  True,  True,  True,  True,  True,  True,  True,\n",
       "         True,  True,  True,  True,  True,  True,  True],\n",
       "       [ True,  True,  True,  True,  True,  True,  True,  True,  True,\n",
       "         True,  True,  True,  True,  True,  True,  True],\n",
       "       [ True,  True,  True,  True,  True,  True,  True,  True,  True,\n",
       "         True,  True,  True,  True,  True,  True,  True],\n",
       "       [ True,  True,  True,  True,  True,  True,  True,  True,  True,\n",
       "         True,  True,  True,  True,  True,  True,  True],\n",
       "       [ True,  True,  True,  True,  True,  True,  True,  True,  True,\n",
       "         True,  True,  True,  True,  True,  True,  True],\n",
       "       [ True,  True,  True,  True,  True,  True,  True,  True,  True,\n",
       "         True,  True,  True,  True,  True,  True,  True],\n",
       "       [ True,  True,  True,  True,  True,  True,  True,  True,  True,\n",
       "         True,  True,  True,  True,  True,  True,  True],\n",
       "       [ True,  True,  True,  True,  True,  True,  True,  True,  True,\n",
       "         True,  True,  True,  True,  True,  True,  True],\n",
       "       [ True,  True,  True,  True,  True,  True,  True,  True,  True,\n",
       "         True,  True,  True,  True,  True,  True,  True],\n",
       "       [ True,  True,  True,  True,  True,  True,  True,  True,  True,\n",
       "         True,  True,  True,  True,  True,  True,  True],\n",
       "       [ True,  True,  True,  True,  True,  True,  True,  True,  True,\n",
       "         True,  True,  True,  True,  True,  True,  True],\n",
       "       [ True,  True,  True,  True,  True,  True,  True,  True,  True,\n",
       "         True,  True,  True,  True,  True,  True,  True],\n",
       "       [ True,  True,  True,  True,  True,  True,  True,  True,  True,\n",
       "         True,  True,  True,  True,  True,  True,  True],\n",
       "       [ True,  True,  True,  True,  True,  True,  True,  True,  True,\n",
       "         True,  True,  True,  True,  True,  True,  True]])"
      ]
     },
     "execution_count": 18,
     "metadata": {},
     "output_type": "execute_result"
    }
   ],
   "source": [
    "PP = P  # 4x4\n",
    "\n",
    "AA_2 = np.block([[PP, PP], [PP, -1*PP]]) # 8x8\n",
    "AA = np.block([[AA_2, AA_2], [AA_2, -1*AA_2]]) #16x16\n",
    "\n",
    "AA==A"
   ]
  }
 ],
 "metadata": {
  "kernelspec": {
   "display_name": "mosaic",
   "language": "python",
   "name": "python3"
  },
  "language_info": {
   "codemirror_mode": {
    "name": "ipython",
    "version": 3
   },
   "file_extension": ".py",
   "mimetype": "text/x-python",
   "name": "python",
   "nbconvert_exporter": "python",
   "pygments_lexer": "ipython3",
   "version": "3.8.17"
  },
  "orig_nbformat": 4
 },
 "nbformat": 4,
 "nbformat_minor": 2
}
